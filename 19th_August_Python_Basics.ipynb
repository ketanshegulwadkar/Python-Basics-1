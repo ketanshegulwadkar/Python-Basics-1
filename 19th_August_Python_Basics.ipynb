{
 "cells": [
  {
   "cell_type": "raw",
   "id": "5c9c214a-109f-4693-930d-9b5e6686826a",
   "metadata": {},
   "source": [
    "                                                                           TOPIC: Python Basics Variable"
   ]
  },
  {
   "cell_type": "code",
   "execution_count": 31,
   "id": "95b7cb03-5c0c-45f8-b3b4-333444dfe004",
   "metadata": {},
   "outputs": [
    {
     "name": "stdout",
     "output_type": "stream",
     "text": [
      "After Swapping: \n",
      "a =  2\n",
      "b =  1\n"
     ]
    }
   ],
   "source": [
    "''' 1. Declare two variables, `x` and `y`, and assign them integer values. Swap the\n",
    "values of these variables without using any temporary variable.'''\n",
    "\n",
    "#Declare two variables and assigned them integer\n",
    "a=1\n",
    "b=2\n",
    "\n",
    "#Swap the values of these variables without temporary variable\n",
    "a,b = b,a\n",
    "\n",
    "#Displaying result after swapping\n",
    "print(\"After Swapping: \")\n",
    "print(\"a = \",a)\n",
    "print(\"b = \",b)\n"
   ]
  },
  {
   "cell_type": "code",
   "execution_count": 32,
   "id": "6e1c2e4f-e9c6-439e-909d-98d1fbf8947b",
   "metadata": {},
   "outputs": [
    {
     "name": "stdin",
     "output_type": "stream",
     "text": [
      " 2\n",
      " 4\n"
     ]
    },
    {
     "name": "stdout",
     "output_type": "stream",
     "text": [
      "Area Of Rectangle : 8\n"
     ]
    }
   ],
   "source": [
    "''' 2. Create a program that calculates the area of a rectangle. Take the length and\n",
    "width as inputs from the user and store them in variables. Calculate and\n",
    "display the area. '''\n",
    "\n",
    "#Declaring width and length and taking input \n",
    "width = int(input())\n",
    "length = int(input())\n",
    "\n",
    "#Calculating Area of rectangle using formula\n",
    "area = width*length\n",
    "\n",
    "#Displaying Area of rectangle found after calculating\n",
    "print(\"Area Of Rectangle :\" , area)\n"
   ]
  },
  {
   "cell_type": "code",
   "execution_count": 28,
   "id": "4ea2afb4-379f-4494-9b61-24f7d9375b1c",
   "metadata": {},
   "outputs": [
    {
     "name": "stdin",
     "output_type": "stream",
     "text": [
      "Enter temperature in Celsius:  30\n"
     ]
    },
    {
     "name": "stdout",
     "output_type": "stream",
     "text": [
      "Temperature in Fahrenheit : 86.0\n"
     ]
    }
   ],
   "source": [
    "''' 3. Write a Python program that converts temperatures from Celsius to\n",
    "Fahrenheit. Take the temperature in Celsius as input, store it in a variable,\n",
    "convert it to Fahrenheit, and display the result. '''\n",
    "\n",
    "\n",
    "# Take temperature in Celsius as input\n",
    "celsius_temperature = int(input(\"Enter temperature in Celsius: \"))\n",
    "\n",
    "# Convert Celsius to Fahrenheit\n",
    "fahrenheit_temperature = (celsius_temperature * 9/5) + 32\n",
    "\n",
    "# Display the result\n",
    "print(\"Temperature in Fahrenheit :\" , fahrenheit_temperature)\n",
    "\n"
   ]
  },
  {
   "cell_type": "raw",
   "id": "2ec4acaa-8d12-46a4-ad3a-07399441de88",
   "metadata": {},
   "source": [
    "                                                                                TOPIC: Python Basics Variable"
   ]
  },
  {
   "cell_type": "code",
   "execution_count": 5,
   "id": "4c547044-03cb-40a9-ab9a-fd925bc2a1d6",
   "metadata": {},
   "outputs": [
    {
     "name": "stdin",
     "output_type": "stream",
     "text": [
      "Enter a string:  Good Morning\n"
     ]
    },
    {
     "name": "stdout",
     "output_type": "stream",
     "text": [
      "The length of the string is:  12\n"
     ]
    }
   ],
   "source": [
    "'''1. Write a Python program that takes a string as input and prints the length of\n",
    "the string.'''\n",
    "\n",
    "# Take a string as input\n",
    "string = input(\"Enter a string: \")\n",
    "\n",
    "# Calculate and print the length of the string\n",
    "string_length = int(len(string))\n",
    "\n",
    "#Display string length\n",
    "print(\"The length of the string is: \" , string_length)"
   ]
  },
  {
   "cell_type": "code",
   "execution_count": 1,
   "id": "bca7396c-0213-4e71-bb81-b7e7c89907f7",
   "metadata": {},
   "outputs": [
    {
     "name": "stdin",
     "output_type": "stream",
     "text": [
      "Enter a sentence:  Hello Ketan\n"
     ]
    },
    {
     "name": "stdout",
     "output_type": "stream",
     "text": [
      "Number of vowels: 4\n"
     ]
    }
   ],
   "source": [
    "'''2. Create a program that takes a sentence from the user and counts the number\n",
    "of vowels (a, e, i, o, u) in the string.'''\n",
    "\n",
    "# Take a sentence as input\n",
    "sentence = input(\"Enter a sentence: \")\n",
    "\n",
    "# Define the set of vowels and intialising count as zero\n",
    "vowels = 'aeiouAEIOU'\n",
    "count= 0\n",
    "\n",
    "#count the vowels\n",
    "for vowel in vowels:\n",
    "    count += sentence.count(vowel)\n",
    "\n",
    "#Display the number vowels\n",
    "print('Number of vowels: ' + str(count))\n"
   ]
  },
  {
   "cell_type": "code",
   "execution_count": 11,
   "id": "39ca014a-ebd6-489a-b7f0-7f12e30cf57c",
   "metadata": {},
   "outputs": [
    {
     "name": "stdin",
     "output_type": "stream",
     "text": [
      "Enter a string:  Ketan\n"
     ]
    },
    {
     "name": "stdout",
     "output_type": "stream",
     "text": [
      "Reversed string: nateK\n"
     ]
    }
   ],
   "source": [
    "'''3. Given a string, reverse the order of characters using string slicing and print\n",
    "the reversed string.'''\n",
    "\n",
    "# Take a string as input\n",
    "input_string = input(\"Enter a string: \")\n",
    "\n",
    "# Reverse the string using string slicing\n",
    "reversed_string = input_string[::-1]\n",
    "\n",
    "# Display the reversed string\n",
    "print(\"Reversed string:\", reversed_string)"
   ]
  },
  {
   "cell_type": "code",
   "execution_count": 11,
   "id": "245e98fa-d235-4cbd-813d-169e36af71a7",
   "metadata": {},
   "outputs": [
    {
     "name": "stdin",
     "output_type": "stream",
     "text": [
      "Enter A String:  Madam\n"
     ]
    },
    {
     "name": "stdout",
     "output_type": "stream",
     "text": [
      "PALINDROME !\n"
     ]
    }
   ],
   "source": [
    "'''Write a program that takes a string as input and checks if it is a palindrome\n",
    "(reads the same forwards and backwards).'''\n",
    "\n",
    "#Taking input for string\n",
    "str = input(\"Enter A String: \") \n",
    "str = str.casefold()  \n",
    "  \n",
    "# This string is reverse.  \n",
    "rev = reversed(str)  \n",
    " \n",
    "#Check and Display string is a palindrome or not    \n",
    "if list(str) == list(rev):  \n",
    "   print(\"PALINDROME !\")  \n",
    "else:  \n",
    "   print(\"NOT PALINDROME !\")  "
   ]
  },
  {
   "cell_type": "code",
   "execution_count": 2,
   "id": "a0360c1c-2c86-491d-a6dc-061fbf91bfc2",
   "metadata": {},
   "outputs": [
    {
     "name": "stdin",
     "output_type": "stream",
     "text": [
      "Enter a string:  Good Morning Ketan, How Are You?\n"
     ]
    },
    {
     "name": "stdout",
     "output_type": "stream",
     "text": [
      "Modified string without spaces: GoodMorningKetan,HowAreYou?\n"
     ]
    }
   ],
   "source": [
    "'''5. Create a program that takes a string as input and removes all the spaces from\n",
    "it. Print the modified string without spaces.'''\n",
    "\n",
    "\n",
    "# Take a string as input\n",
    "input_string = input(\"Enter a string: \")\n",
    "\n",
    "# Remove spaces from the input string\n",
    "modified_string = input_string.replace(\" \", \"\")\n",
    "\n",
    "# Display the modified string without spaces\n",
    "print(\"Modified string without spaces:\", modified_string)"
   ]
  },
  {
   "cell_type": "code",
   "execution_count": null,
   "id": "da5aab66-7a50-4536-b189-d307556dc19f",
   "metadata": {},
   "outputs": [],
   "source": []
  }
 ],
 "metadata": {
  "kernelspec": {
   "display_name": "Python 3 (ipykernel)",
   "language": "python",
   "name": "python3"
  },
  "language_info": {
   "codemirror_mode": {
    "name": "ipython",
    "version": 3
   },
   "file_extension": ".py",
   "mimetype": "text/x-python",
   "name": "python",
   "nbconvert_exporter": "python",
   "pygments_lexer": "ipython3",
   "version": "3.10.8"
  }
 },
 "nbformat": 4,
 "nbformat_minor": 5
}
